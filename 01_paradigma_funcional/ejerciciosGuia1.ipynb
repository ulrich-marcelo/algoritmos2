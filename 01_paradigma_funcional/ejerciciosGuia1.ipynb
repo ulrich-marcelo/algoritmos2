{
 "cells": [
  {
   "cell_type": "code",
   "execution_count": 1,
   "metadata": {},
   "outputs": [],
   "source": [
    "#imports generales\n",
    "from collections.abc import Callable\n",
    "from typing import Any"
   ]
  },
  {
   "cell_type": "markdown",
   "metadata": {},
   "source": [
    "Ejercicio 1\n",
    "Ejercicio: Función de orden superior\n",
    "Implementar una función llamada wrapper que reciba por parámetro a otra función f sin argumentos, la ejecute e imprima en pantalla el mensaje de ejecución: \"Ejecutada f()\".\n",
    "\n",
    "Extender la función wrapper de forma que pueda aceptar cualquier función con argumentos variables y se puedan pasar también desde la función wrapper para que se invoquen en f. Por ejemplo, si f acepta 3 argumentos, éstos deberían también pasarse a wrapper para que se invoque f(arg1, arg2, arg3) dentro.\n",
    "\n",
    "TIP: Ver el type hint Callable.\n",
    "\n",
    "TIP 2: Ver pasaje de argumentos con *args y **kwargs."
   ]
  },
  {
   "cell_type": "code",
   "execution_count": null,
   "metadata": {},
   "outputs": [],
   "source": [
    "def wrapper(f: Callable[...,Any]):\n",
    "    f()\n",
    "    print('Ejecutada f()')\n",
    "\n"
   ]
  }
 ],
 "metadata": {
  "kernelspec": {
   "display_name": ".venv",
   "language": "python",
   "name": "python3"
  },
  "language_info": {
   "codemirror_mode": {
    "name": "ipython",
    "version": 3
   },
   "file_extension": ".py",
   "mimetype": "text/x-python",
   "name": "python",
   "nbconvert_exporter": "python",
   "pygments_lexer": "ipython3",
   "version": "3.12.0"
  }
 },
 "nbformat": 4,
 "nbformat_minor": 2
}
