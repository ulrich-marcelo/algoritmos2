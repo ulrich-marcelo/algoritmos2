{
 "cells": [
  {
   "cell_type": "markdown",
   "metadata": {},
   "source": [
    "# Paradigma funcional en Python"
   ]
  },
  {
   "cell_type": "markdown",
   "metadata": {},
   "source": [
    "## Concepto de Estado\n",
    "### Paradigma imperativo\n",
    "Procedimiento que se apoya en variable global para incrementar un contador."
   ]
  },
  {
   "cell_type": "code",
   "execution_count": null,
   "metadata": {},
   "outputs": [],
   "source": [
    "contador: int = 0\n",
    "\n",
    "def incrementar_contador():\n",
    "    global contador\n",
    "    contador += 1\n",
    "\n",
    "incrementar_contador()\n",
    "print(contador)"
   ]
  },
  {
   "cell_type": "markdown",
   "metadata": {},
   "source": [
    "### POO\n",
    "Versión de contador utilizando una clase. El estado se mantiene encapsulado en el objeto."
   ]
  },
  {
   "cell_type": "code",
   "execution_count": null,
   "metadata": {},
   "outputs": [],
   "source": [
    "class Contador:\n",
    "    def __init__(self, valor_inicial=0):\n",
    "        self._valor: int = valor_inicial\n",
    "\n",
    "    def actual(self) -> int:\n",
    "        return self._valor\n",
    "    \n",
    "    def incrementar(self) -> int:\n",
    "        self._valor += 1\n",
    "        return self._valor\n",
    "    \n",
    "contador: Contador = Contador()\n",
    "contador.incrementar()\n",
    "print(contador.actual())"
   ]
  },
  {
   "cell_type": "markdown",
   "metadata": {},
   "source": [
    "### Paradigma funcional\n",
    "Versión de contador con una función pura."
   ]
  },
  {
   "cell_type": "code",
   "execution_count": null,
   "metadata": {},
   "outputs": [],
   "source": [
    "def incrementar_contador(contador: int) -> int:\n",
    "    return contador + 1\n",
    "\n",
    "contador = incrementar_contador(0)\n",
    "print(contador)     # Salida: 1"
   ]
  },
  {
   "cell_type": "code",
   "execution_count": null,
   "metadata": {},
   "outputs": [],
   "source": [
    "class ConjuntoInmutable:\n",
    "    # Implementar\n",
    "    pass\n",
    "\n",
    "\n",
    "conjunto = ConjuntoInmutable('a', 1, 3, 'b', 5)\n",
    "conjunto.elementos                  # ('a', 1, 3, 'b', 5)\n",
    "conjunto.elementos[2] = 10          # Error\n",
    "conjunto.elementos = (1, 3, 'a')    # Error"
   ]
  },
  {
   "cell_type": "markdown",
   "metadata": {},
   "source": [
    "## Ciudadanos de primera clase\n",
    "Función de orden superior que aplica una función a cada elemento de una lista."
   ]
  },
  {
   "cell_type": "code",
   "execution_count": null,
   "metadata": {},
   "outputs": [],
   "source": [
    "from typing import Callable, TypeVar, Union\n",
    "from collections.abc import Sequence\n",
    "\n",
    "Numerico = Union[int, float]\n",
    "\n",
    "T = TypeVar(\"T\")\n",
    "\n",
    "def aplicar_operacion(lista: Sequence[T], operacion: Callable[[T], T]) -> Sequence[T]:\n",
    "    resultado = []\n",
    "    for elemento in lista:\n",
    "        resultado.append(operacion(elemento))\n",
    "    return resultado\n",
    "\n",
    "# Definición de funciones que se aplicarán a la lista\n",
    "def cuadrado(x: Numerico) -> Numerico:\n",
    "    return x * x\n",
    "\n",
    "def inverso(x: Numerico) -> Numerico:\n",
    "    return 0 - x\n",
    "\n",
    "# Uso de funcion de orden superior\n",
    "numeros: list[int] = [1, -2, 3, -4, 5, -6]\n",
    "numeros_cuadrados = aplicar_operacion(numeros, cuadrado)  # Elevar al cuadrado\n",
    "numeros_inversos = aplicar_operacion(numeros, inverso)   # Inverso aditivo\n",
    "\n",
    "print(numeros_cuadrados)  # [1, 4, 9, 16, 25, 36]\n",
    "print(numeros_inversos)  # [-1, 2, -3, 4, -5, 6]"
   ]
  },
  {
   "cell_type": "markdown",
   "metadata": {},
   "source": [
    "### Ejercicio: Función de orden superior\n",
    "- Implementar una función llamada _wrapper_ que reciba por parámetro a otra función _f_ sin argumentos, la ejecute e imprima en pantalla el mensaje de ejecución: \"Ejecutada f()\".\n",
    "- Extender la función _wrapper_ de forma que pueda aceptar cualquier función con argumentos variables y se puedan pasar también desde la función _wrapper_ para que se invoquen en _f_. Por ejemplo, si _f_ acepta 3 argumentos, éstos deberían también pasarse a _wrapper_ para que se invoque _f(arg1, arg2, arg3)_ dentro.\n",
    "\n",
    "_TIP: Ver el type hint [`Callable`](../B_Python_Type_Hints/README.md#callable)._\n",
    "\n",
    "_TIP 2: Ver pasaje de argumentos con [*args](https://docs.python.org/3/tutorial/controlflow.html#arbitrary-argument-lists) y [**kwargs](https://docs.python.org/3/tutorial/controlflow.html#keyword-arguments)._"
   ]
  },
  {
   "cell_type": "code",
   "execution_count": null,
   "metadata": {},
   "outputs": [],
   "source": [
    "wrapper(test, 1, 'a', a=3, x=44, n='pepepe')\n",
    "# Salida esperada:\n",
    "# Ejecutada test()\n",
    "# Argumentos posicionales: (1, 'a')\n",
    "# Argumentos con nombre: {'a': 3, 'x': 44, 'n': 'pepepe'}\n"
   ]
  },
  {
   "cell_type": "markdown",
   "metadata": {},
   "source": [
    "### Composición de funciones\n",
    "\n",
    "Versión imperativa"
   ]
  },
  {
   "cell_type": "code",
   "execution_count": null,
   "metadata": {},
   "outputs": [],
   "source": [
    "def add_elemento(xs: list[int], x: int) -> None:\n",
    "    xs.append(x)\n",
    "\n",
    "lista_enteros: list[int] = []\n",
    "add_elemento(lista_enteros, 1)\n",
    "add_elemento(lista_enteros, 2)\n",
    "add_elemento(lista_enteros, 3)\n",
    "lista_enteros"
   ]
  },
  {
   "cell_type": "markdown",
   "metadata": {},
   "source": [
    "Versión funcional"
   ]
  },
  {
   "cell_type": "code",
   "execution_count": null,
   "metadata": {},
   "outputs": [],
   "source": [
    "def add_elemento(xs: list[int], x: int) -> list[int]:\n",
    "    ys: list[int] = xs.copy()\n",
    "    ys.append(x)\n",
    "    return ys\n",
    "\n",
    "lista_enteros: list[int] = add_elemento(add_elemento(add_elemento([], 1), 2), 3)\n",
    "lista_enteros"
   ]
  },
  {
   "cell_type": "markdown",
   "metadata": {},
   "source": [
    "## Inmutabilidad\n",
    "\n",
    "### Transitividad\n",
    "\n",
    "Recordar que debemos verificar que los atributos de un objeto inmutable sean también inmutables, o de lo contrario contemplar en que no puedan mutar."
   ]
  },
  {
   "cell_type": "code",
   "execution_count": null,
   "metadata": {},
   "outputs": [],
   "source": [
    "from typing import TypeVar, Generic\n",
    "\n",
    "T = TypeVar(\"T\")\n",
    "\n",
    "class ContenedorInmutable(Generic[T]):\n",
    "    def __init__(self, valor: T):\n",
    "        self._valor: T = valor\n",
    "    \n",
    "    def contenido(self) -> T:\n",
    "        return self._valor\n",
    "\n",
    "xs: list[int] = [1, 2, 3]\n",
    "contenedor: ContenedorInmutable[list[int]] = ContenedorInmutable(xs)\n",
    "xs[0] = 9\n",
    "\n",
    "print(contenedor.contenido())   # [9, 2, 3]"
   ]
  },
  {
   "cell_type": "markdown",
   "metadata": {},
   "source": [
    "### Clases inmutables"
   ]
  },
  {
   "cell_type": "code",
   "execution_count": null,
   "metadata": {},
   "outputs": [],
   "source": [
    "class MiClaseInmutable:\n",
    "    def __init__(self, valor_inicial):\n",
    "        self._valor = valor_inicial\n",
    "    \n",
    "    @property\n",
    "    def valor(self):\n",
    "        return self._valor\n",
    "\n",
    "objeto_inmutable = MiClaseInmutable(20)\n",
    "objeto_inmutable.valor                      # 20\n",
    "objeto_inmutable.valor = 10                 # AttributeError: property 'valor' of 'MiClaseInmutable' object has no setter\n",
    "objeto_inmutable._valor = 10                # Modifica el valor\n",
    "objeto_inmutable.valor                      # 10"
   ]
  },
  {
   "cell_type": "markdown",
   "metadata": {},
   "source": [
    "#### Métodos especiales `__setattr__` y `__delattr__`"
   ]
  },
  {
   "cell_type": "code",
   "execution_count": null,
   "metadata": {},
   "outputs": [],
   "source": [
    "class MiClaseInmutable:\n",
    "    __slots__ = ('_valor',)\n",
    "\n",
    "    def __init__(self, valor_inicial):\n",
    "        super().__setattr__('_valor', valor_inicial)\n",
    "    \n",
    "    def __setattr__(self, __name: str, __value: Any) -> None:\n",
    "        raise AttributeError(f'No es posible setear el atributo {__name}')\n",
    "    \n",
    "    def __delattr__(self, __name: str) -> None:\n",
    "        raise AttributeError(f'No es posible eliminar el atributo {__name}')\n",
    "    \n",
    "    def valor(self):\n",
    "        return self._valor"
   ]
  },
  {
   "cell_type": "markdown",
   "metadata": {},
   "source": [
    "#### Named Tuples"
   ]
  },
  {
   "cell_type": "code",
   "execution_count": null,
   "metadata": {},
   "outputs": [],
   "source": [
    "from collections import namedtuple\n",
    "\n",
    "MiClaseInmutable = namedtuple('MiClaseInmutable', 'valor1 valor2')\n",
    "mi_obj = MiClaseInmutable(10, 20)\n",
    "mi_obj                  # MiClaseInmutable(valor1=10, valor2=20)\n",
    "mi_obj.valor1           # 10\n",
    "mi_obj.valor2           # 20"
   ]
  },
  {
   "cell_type": "code",
   "execution_count": null,
   "metadata": {},
   "outputs": [],
   "source": [
    "from collections import namedtuple\n",
    "\n",
    "class MiClaseInmutable(namedtuple('MiClaseInmutable', 'valor1 valor2')):\n",
    "    __slots__ = ()\n",
    "    def __repr__(self) -> str:\n",
    "        return f'{super().__repr__()} INMUTABLE'\n",
    "    \n",
    "mi_obj = MiClaseInmutable(10, 20)\n",
    "mi_obj                  # MiClaseInmutable(valor1=10, valor2=20) INMUTABLE"
   ]
  },
  {
   "cell_type": "markdown",
   "metadata": {},
   "source": [
    "#### dataclass"
   ]
  },
  {
   "cell_type": "code",
   "execution_count": null,
   "metadata": {},
   "outputs": [],
   "source": [
    "from dataclasses import dataclass\n",
    "\n",
    "@dataclass(frozen=True)\n",
    "class Persona:\n",
    "    nombre: str\n",
    "    apellido: str\n",
    "    edad: int\n",
    "\n",
    "    def es_adulta(self):\n",
    "        return edad >= 18\n",
    "    \n",
    "p = Persona(\"Julia\", \"Martinez\", 22)\n",
    "print(p)        # Persona(nombre='Julia', apellido='Martinez', edad=22)\n",
    "p.edad = 20     # FrozenInstanceError: cannot assign to field 'edad'"
   ]
  },
  {
   "cell_type": "markdown",
   "metadata": {},
   "source": [
    "## Inmutabilidad\n",
    "\n",
    "### Ejercicio: Conjunto inmutable\n",
    "Implementar una versión de un conjunto de elementos de cualquier tipo que sea inmutable. Podemos apoyarnos en la `tuple` de Python. El conjunto se crea con una cantidad de elementos variables y luego ya no puede modificarse."
   ]
  },
  {
   "cell_type": "code",
   "execution_count": null,
   "metadata": {},
   "outputs": [],
   "source": [
    "class ConjuntoInmutable:\n",
    "    # Implementar\n",
    "    pass\n",
    "\n",
    "\n",
    "contenedor = ConjuntoInmutable('a', 1, 3, 'b', 5)\n",
    "contenedor.elementos        # ('a', 1, 3, 'b', 5)\n",
    "x.elementos[2] = 10         # Error\n",
    "x.elementos = (1, 3, 'a')   # Error"
   ]
  },
  {
   "cell_type": "markdown",
   "metadata": {},
   "source": [
    "## Funciones puras\n",
    "\n",
    "### Efectos secundarios"
   ]
  },
  {
   "cell_type": "code",
   "execution_count": null,
   "metadata": {},
   "outputs": [],
   "source": [
    "def duplicar_elemento(lista: list[int], indice: int) -> list[int]:\n",
    "    lista[indice] *= 2\n",
    "    return lista\n",
    "\n",
    "def duplicar_elemento_pura(lista: list[int], indice: int) -> list[int]:\n",
    "    nueva_lista = lista.copy()\n",
    "    nueva_lista[indice] *= 2\n",
    "    return nueva_lista\n",
    "\n",
    "# Uso de ambas funciones\n",
    "original: list[int] = [1, 2, 3]\n",
    "resultado1: list[int] = duplicar_elemento(original, 1)\n",
    "resultado2: list[int] = duplicar_elemento_pura(original, 1)\n",
    "\n",
    "print(f\"Impura: {resultado1}\")  # Salida: [1, 4, 3]\n",
    "print(f\"Pura: {resultado2}\")  # Salida: [1, 8, 3]"
   ]
  },
  {
   "cell_type": "markdown",
   "metadata": {},
   "source": [
    "### Ejercicio: Funciones puras e impuras\n",
    "Proponer ejemplos de funciones impuras para cada tipo de efecto secundario mencionado y cómo se podrían conventir, si es posible, a versiones de funciones puras.\n",
    "\n",
    "#### Modificación de Variables Globales"
   ]
  },
  {
   "cell_type": "code",
   "execution_count": null,
   "metadata": {},
   "outputs": [],
   "source": []
  },
  {
   "cell_type": "markdown",
   "metadata": {},
   "source": [
    "#### Modificación de Argumentos"
   ]
  },
  {
   "cell_type": "code",
   "execution_count": null,
   "metadata": {},
   "outputs": [],
   "source": []
  },
  {
   "cell_type": "markdown",
   "metadata": {},
   "source": [
    "### Impresiones en Consola o Registro de Eventos"
   ]
  },
  {
   "cell_type": "code",
   "execution_count": null,
   "metadata": {},
   "outputs": [],
   "source": []
  },
  {
   "cell_type": "markdown",
   "metadata": {},
   "source": [
    "## Estrategias de evaluación\n",
    "\n",
    "### Evaluación estricta"
   ]
  },
  {
   "cell_type": "code",
   "execution_count": null,
   "metadata": {},
   "outputs": [],
   "source": [
    "def func1():\n",
    "    print('Evalua funcion 1')\n",
    "    return 1\n",
    "def func2():\n",
    "    print('Evalua funcion 2')\n",
    "    return 2\n",
    "def sumaRara(x, y):\n",
    "    print('Evalua funcion externa')\n",
    "    return x if x == 1 else x + y\n",
    "\n",
    "sumaRara(func1(), func2())"
   ]
  },
  {
   "cell_type": "markdown",
   "metadata": {},
   "source": [
    "### Evaluación no estricta\n",
    "\n",
    "#### Evaluación de cortocircuito"
   ]
  },
  {
   "cell_type": "code",
   "execution_count": null,
   "metadata": {},
   "outputs": [],
   "source": [
    "def esDivisor(nro: int, divisor: int) -> bool:\n",
    "    return (divisor > 0) and (nro % divisor == 0)\n",
    "\n",
    "esDivisor(10, 0)    # False"
   ]
  },
  {
   "cell_type": "markdown",
   "metadata": {},
   "source": [
    "#### Evaluación perezosa"
   ]
  },
  {
   "cell_type": "markdown",
   "metadata": {},
   "source": [
    "Al finalizar de consumirse el iterador, se produce el StopIteration."
   ]
  },
  {
   "cell_type": "code",
   "execution_count": null,
   "metadata": {},
   "outputs": [],
   "source": [
    "from collections.abc import Iterator\n",
    "\n",
    "def genera_saludo() -> Iterator[str]:\n",
    "    yield \"Hola\"\n",
    "    yield \"Buenas\"\n",
    "    yield \"Buen día\"\n",
    "\n",
    "iterador_saludos = genera_saludo()\n",
    "print(next(iterador_saludos))   # Hola\n",
    "print(next(iterador_saludos))   # Buenas\n",
    "print(next(iterador_saludos))   # Buen día\n",
    "print(next(iterador_saludos))   # Error StopIteration"
   ]
  },
  {
   "cell_type": "markdown",
   "metadata": {},
   "source": [
    "Si se consume un iterador, ya no es posible reiniciarlo, se debe generar otro."
   ]
  },
  {
   "cell_type": "code",
   "execution_count": null,
   "metadata": {},
   "outputs": [],
   "source": [
    "iterador_saludos = genera_saludo()\n",
    "for saludo in iterador_saludos:\n",
    "    print(saludo)\n",
    "for saludo in iterador_saludos:\n",
    "    print(saludo)"
   ]
  },
  {
   "cell_type": "markdown",
   "metadata": {},
   "source": [
    "Función generadora de positivos pares."
   ]
  },
  {
   "cell_type": "code",
   "execution_count": null,
   "metadata": {},
   "outputs": [],
   "source": [
    "from collections.abc import Iterator\n",
    "\n",
    "def positivos_pares() -> Iterator[int]:\n",
    "    numero: int = 0\n",
    "    while True:\n",
    "        yield numero\n",
    "        numero += 2"
   ]
  },
  {
   "cell_type": "markdown",
   "metadata": {},
   "source": [
    "Versión con expresión generadora."
   ]
  },
  {
   "cell_type": "code",
   "execution_count": null,
   "metadata": {},
   "outputs": [],
   "source": [
    "positivos_pares = (x for x in range(0, 10, 2))  # <generator object <genexpr> ...>\n",
    "list(positivos_pares)"
   ]
  },
  {
   "cell_type": "markdown",
   "metadata": {},
   "source": [
    "Expresión generadora que produce funciones."
   ]
  },
  {
   "cell_type": "code",
   "execution_count": null,
   "metadata": {},
   "outputs": [],
   "source": [
    "funciones = (lambda z: x * 2 + z for x in range(5))\n",
    "# Los valores se generan solo cuando se solicita.\n",
    "print(next(funciones)(10))  # Se evalúa el primer valor cuando se solicita.\n",
    "print(next(funciones)(10))  # Se evalúa el segundo valor cuando se solicita.\n",
    "print(next(funciones)(20))  # Se evalúa el tercer valor cuando se solicita.\n",
    "print(next(funciones)(10))  # Se evalúa el cuarto valor cuando se solicita."
   ]
  },
  {
   "cell_type": "markdown",
   "metadata": {},
   "source": [
    "### Ejercicio: Generador de primos\n",
    "Implementar una función generadora que permita producir todos los números primos uno a uno.\n"
   ]
  },
  {
   "cell_type": "code",
   "execution_count": null,
   "metadata": {},
   "outputs": [],
   "source": [
    "from collections.abc import Iterator\n",
    "\n",
    "def generador_primos(n: int) -> Iterator[int]:\n",
    "    # Implementar...\n",
    "    pass\n",
    " \n",
    "for i in generador_primos(100):\n",
    "    print(i)"
   ]
  },
  {
   "cell_type": "markdown",
   "metadata": {},
   "source": [
    "### Ejercicio: Pipeline de datos con generadores\n",
    "En ciertos casos podemos encontrarnos con archivos CSV muy grandes que no entren en memoria para procesarlos completamente, por lo cual veremos una forma de procesar datos a demanda a medida que se leen. Se pide implementar: \n",
    "- un lector de archivo CSV utilizando 3 generadores:\n",
    "    - uno para producir cada línea leída del archivo.\n",
    "    - otro para producir una lista de campos _string_ a partir de cada línea leída, consumiendo el generador previo.\n",
    "    - otro para producir un diccionario a partir de cada lista de campos obtenida con el generador previo.\n",
    "- calcular la suma de los _sepal\\_width_ de todas las especies _Iris-setosa_ del dataset [IRIS.csv](../datasets/IRIS.csv), utilizando un generador que produzca cada valor de _sepal\\_width_ de una planta a la vez que sea de esa especie. _Valor esperado: 170.9_\n",
    "- similar al punto anterior, pero calculando el promedio del _sepal\\_width_ de las especies _Iris-setosa_. _Valor esperado: 3.418_\n",
    "\n",
    "_TIP: Ver la función [`open()`](https://docs.python.org/3/library/functions.html#open) para leer archivos de texto._"
   ]
  },
  {
   "cell_type": "code",
   "execution_count": null,
   "metadata": {},
   "outputs": [],
   "source": []
  },
  {
   "cell_type": "markdown",
   "metadata": {},
   "source": [
    "## Transformación de funciones\n"
   ]
  },
  {
   "cell_type": "markdown",
   "metadata": {},
   "source": [
    "### Currificación"
   ]
  },
  {
   "cell_type": "code",
   "execution_count": null,
   "metadata": {},
   "outputs": [],
   "source": [
    "# Función simple de suma\n",
    "def suma(x, y):\n",
    "    return x + y\n",
    "\n",
    "# Función currificada de suma\n",
    "def suma_curry(x):\n",
    "    def suma_x(y):\n",
    "        return x + y\n",
    "    return suma_x\n",
    "\n",
    "print(suma(1, 3))\n",
    "print(suma_curry(1)(3))"
   ]
  },
  {
   "cell_type": "code",
   "execution_count": null,
   "metadata": {},
   "outputs": [],
   "source": [
    "def doble(x):\n",
    "    return suma_curry(x)(x)\n",
    "\n",
    "def incrementar_10(x):\n",
    "    return suma_curry(10)(x)\n",
    "\n",
    "print(doble(8))\n",
    "print(incrementar_10(9))"
   ]
  },
  {
   "cell_type": "code",
   "execution_count": null,
   "metadata": {},
   "outputs": [],
   "source": [
    "def suma_xyz(x):\n",
    "    def suma_x(y):\n",
    "        def suma_y(z):\n",
    "            return x + y + z\n",
    "        return suma_y\n",
    "    return suma_x\n",
    "\n",
    "suma_xyz(1)(2)(3)"
   ]
  },
  {
   "cell_type": "markdown",
   "metadata": {},
   "source": [
    "#### functools.partial"
   ]
  },
  {
   "cell_type": "code",
   "execution_count": null,
   "metadata": {},
   "outputs": [],
   "source": [
    "from functools import partial\n",
    "\n",
    "def producto(x: int, y: int) -> int:\n",
    "    return x * y\n",
    "\n",
    "producto_10 = partial(producto, 10)\n",
    "producto_10(2)"
   ]
  },
  {
   "cell_type": "markdown",
   "metadata": {},
   "source": [
    "#### pymonad.tools.curry"
   ]
  },
  {
   "cell_type": "code",
   "execution_count": null,
   "metadata": {},
   "outputs": [],
   "source": [
    "from pymonad.tools import curry\n",
    "\n",
    "@curry(2)\n",
    "def producto(x: int, y: int) -> int:\n",
    "    return x * y\n",
    "\n",
    "producto_10 = producto(10)\n",
    "producto_10(2)"
   ]
  },
  {
   "cell_type": "code",
   "execution_count": null,
   "metadata": {},
   "outputs": [],
   "source": [
    "from pymonad.tools import curry\n",
    "\n",
    "producto_curry = curry(2, producto)\n",
    "producto_10 = producto_curry(10)\n",
    "producto_10(2)"
   ]
  },
  {
   "cell_type": "markdown",
   "metadata": {},
   "source": [
    "### Ejercicio: Registrando logs\n",
    "A lo largo de nuestro programa es posible que necesitemos almacenar información de interés en el log de ejecución. A efectos prácticos, nuestro destino de log será la consola, por lo que podemos utilizar simplemente un `print()` para registrar un mensaje de log.\n",
    "\n",
    "Implementar una función `log` _currificada_ que permita registrar un mensaje de log y el tipo, que puede ser _error_, _alerta_ o _información_."
   ]
  },
  {
   "cell_type": "code",
   "execution_count": null,
   "metadata": {},
   "outputs": [],
   "source": []
  },
  {
   "cell_type": "markdown",
   "metadata": {},
   "source": [
    "### Composición con decoradores"
   ]
  },
  {
   "cell_type": "code",
   "execution_count": null,
   "metadata": {},
   "outputs": [],
   "source": [
    "from collections.abc import Callable\n",
    "from functools import wraps\n",
    "\n",
    "def trim(f: Callable[[str], str]) -> Callable[[str], str]:\n",
    "    @wraps(f)\n",
    "    def wrapper(texto: str) -> str:\n",
    "        return f(texto).strip()\n",
    "    return wrapper\n",
    "\n",
    "@trim\n",
    "def transforma_texto(texto: str) -> str:\n",
    "    return texto.replace('.',' ')\n",
    "\n",
    "transforma_texto('  esto es una prueba. ')  # 'esto es una prueba'"
   ]
  },
  {
   "cell_type": "markdown",
   "metadata": {},
   "source": [
    "Ahora parametrizado"
   ]
  },
  {
   "cell_type": "code",
   "execution_count": null,
   "metadata": {},
   "outputs": [],
   "source": [
    "from collections.abc import Callable\n",
    "from functools import wraps\n",
    "\n",
    "def trim(inicio: bool = True, fin: bool = True) -> Callable[[Callable[[str], str]], Callable[[str], str]]:\n",
    "    def trim_deco(f: Callable[[str], str]) -> Callable[[str], str]:\n",
    "        @wraps(f)\n",
    "        def wrapper(texto: str) -> str:\n",
    "            texto = f(texto)\n",
    "            if inicio:\n",
    "                texto = texto.lstrip()\n",
    "            if fin:\n",
    "                texto = texto.rstrip()\n",
    "            return texto\n",
    "        return wrapper\n",
    "    return trim_deco\n",
    "\n",
    "@trim(inicio=False)\n",
    "def transforma_texto(texto: str) -> str:\n",
    "    return texto.replace('.',' ')\n",
    "\n",
    "transforma_texto('  esto es una prueba. ')  # '  esto es una prueba'"
   ]
  },
  {
   "cell_type": "code",
   "execution_count": null,
   "metadata": {},
   "outputs": [],
   "source": [
    "@trim(fin=False)\n",
    "def transforma_texto(texto: str) -> str:\n",
    "    return texto.replace('.',' ')\n",
    "\n",
    "transforma_texto('  esto es una prueba. ')  # 'esto es una prueba  '"
   ]
  },
  {
   "cell_type": "markdown",
   "metadata": {},
   "source": [
    "### Ejercicio: Decorando para _valores faltantes_\n",
    "En ciertas situaciones veremos que una función no siempre puede devolver un valor como esperamos. Dependiendo de los argumentos recibidos, es posible que la función produzca algún error durante su evaluación o simplemente no encuentre un valor apropiado a devolver. En la programación funcional se suele utilizar la mónada _Maybe_ para resolver este problema, pero nosotros itentearemos una solución más sencilla.\n",
    "\n",
    "Se pide implementar una función decoradora `acepta_no_valor` que permita adaptar una función con un único parámetro de cualquier tipo no nulo de forma que devuelva la evaluación de esa función si el argumento recibido no es `None`. De lo contrario, debe devolver `None`.\n",
    "\n",
    "TIP: Se puede usar el _hint_ de tipo de retorno de la decoradora como: `Callable[[T | None], R | None]`. Ver [Generics](../A_Python_POO/README.md#generics)."
   ]
  },
  {
   "cell_type": "code",
   "execution_count": null,
   "metadata": {},
   "outputs": [],
   "source": [
    "# Implementar decorador acepta_no_valor\n",
    "\n",
    "@acepta_no_valor\n",
    "def incrementar(x: int) -> int:\n",
    "    return x + 1\n",
    "\n",
    "incrementar(20)     # 21\n",
    "incrementar(None)   # None"
   ]
  },
  {
   "cell_type": "markdown",
   "metadata": {},
   "source": [
    "## Iteraciones e iterables\n",
    "\n",
    "Estilo imperativo"
   ]
  },
  {
   "cell_type": "code",
   "execution_count": null,
   "metadata": {},
   "outputs": [],
   "source": [
    "def potencia2(n: int) -> int:\n",
    "    retorno: int = 1\n",
    "    for x in range(0, n):\n",
    "        retorno *= 2\n",
    "    return retorno\n",
    "\n",
    "potencia2(11)   # 2048"
   ]
  },
  {
   "cell_type": "markdown",
   "metadata": {},
   "source": [
    "Estilo funcional"
   ]
  },
  {
   "cell_type": "code",
   "execution_count": null,
   "metadata": {},
   "outputs": [],
   "source": [
    "def iterar(veces: int, func: Callable[..., Any], valor: Any) -> Any:\n",
    "    if veces <= 0:\n",
    "        return valor\n",
    "    else:\n",
    "        return iterar(veces - 1, func, func(valor))\n",
    "    \n",
    "def potencia2(n: int) -> int:\n",
    "    return iterar(n, lambda x: 2 * x, 1)\n",
    "\n",
    "potencia2(11)   # 2048"
   ]
  },
  {
   "cell_type": "markdown",
   "metadata": {},
   "source": [
    "### map"
   ]
  },
  {
   "cell_type": "code",
   "execution_count": null,
   "metadata": {},
   "outputs": [],
   "source": [
    "xs: list[int] = [1, 2, 3, 4]\n",
    "ys: list[int] = []\n",
    "operacion = lambda x: x * x\n",
    "for x in xs:\n",
    "    ys.append(operacion(x))\n",
    "\n",
    "ys"
   ]
  },
  {
   "cell_type": "code",
   "execution_count": null,
   "metadata": {},
   "outputs": [],
   "source": [
    "cuadrados: map = map(operacion, xs)    # <map at 0x1beb3187940>\n",
    "list(cuadrados)     # [1, 4, 9, 16]"
   ]
  },
  {
   "cell_type": "code",
   "execution_count": null,
   "metadata": {},
   "outputs": [],
   "source": [
    "totales: list[int] = [100, 200, 300]\n",
    "registros: list[int] = [50, 40, 120]\n",
    "\n",
    "proporciones: map = map(lambda x, y: x / y, totales, registros)\n",
    "list(proporciones)  # [2.0, 5.0, 2.5]"
   ]
  },
  {
   "cell_type": "code",
   "execution_count": null,
   "metadata": {},
   "outputs": [],
   "source": [
    "proporciones: list[float] = [x / y for x, y in zip(totales, registros)]\n",
    "proporciones"
   ]
  },
  {
   "cell_type": "code",
   "execution_count": null,
   "metadata": {},
   "outputs": [],
   "source": [
    "from collections.abc import Iterable, Iterator\n",
    "from typing import Any\n",
    "\n",
    "def mi_zip(*iterables: Iterable[Any]) -> Iterator[tuple[Any, ...]]:\n",
    "    return map(lambda *elementos: tuple(elementos), *iterables)\n",
    "\n",
    "list(mi_zip([1,2,3], ['a','b','c']))"
   ]
  },
  {
   "cell_type": "markdown",
   "metadata": {},
   "source": [
    "### Ejercicio: Contar letras\n",
    "A través del uso del `map`, dada una lista de cadenas generar una nueva lista que devuelva la cantidad que tiene de cierta letra (debe ser pasada como argumento) cada elemento. \n",
    "\n",
    "Por ejemplo, si queremos contar la letra 'a' en ['casa', 'hogar', 'espacio', 'cuento'] deberíamos obtener [2, 1, 1, 0]."
   ]
  },
  {
   "cell_type": "code",
   "execution_count": null,
   "metadata": {},
   "outputs": [],
   "source": [
    "# Implementar contar_a(texto) o contar(letra, texto)\n",
    "\n",
    "xs = ['casa', 'hogar', 'espacio', 'cuento']\n",
    "list(map(contar_a, xs))     # [2, 1, 1, 0]"
   ]
  },
  {
   "cell_type": "markdown",
   "metadata": {},
   "source": [
    "### filter\n",
    "\n",
    "Estilo imperativo."
   ]
  },
  {
   "cell_type": "code",
   "execution_count": null,
   "metadata": {},
   "outputs": [],
   "source": [
    "def es_par(n: int) -> bool:\n",
    "    return n % 2 == 0\n",
    "\n",
    "xs = [1, 2, 3, 4, 5, 6]\n",
    "ys = []\n",
    "for x in xs:\n",
    "    if es_par(x):\n",
    "        ys.append(x)\n",
    "\n",
    "ys"
   ]
  },
  {
   "cell_type": "markdown",
   "metadata": {},
   "source": [
    "Estilo funcional."
   ]
  },
  {
   "cell_type": "code",
   "execution_count": null,
   "metadata": {},
   "outputs": [],
   "source": [
    "def es_par(n: int):\n",
    "    return n % 2 == 0\n",
    "\n",
    "filter(es_par, [1, 2, 3, 4, 5, 6])  # <filter at 0x1d2af1aed70>\n",
    "list(filter(es_par, [1, 2, 3, 4, 5, 6]))"
   ]
  },
  {
   "cell_type": "markdown",
   "metadata": {},
   "source": [
    "Detección de outliers con z-score."
   ]
  },
  {
   "cell_type": "code",
   "execution_count": null,
   "metadata": {},
   "outputs": [],
   "source": [
    "import numpy as np\n",
    "from pymonad.tools import curry\n",
    "from pymonad.reader import Compose\n",
    "\n",
    "@curry(3)\n",
    "def zscore(media: float, desvio: float, valor: float) -> float:\n",
    "    return (valor - media) / desvio\n",
    "\n",
    "def es_outlier(z_score: float, limite :float = 3) -> bool:\n",
    "    return z_score > limite or z_score < (limite * -1)\n",
    "\n",
    "# Generamos muestra random\n",
    "muestra = np.random.normal(0, 5, 1000)\n",
    "# Aplicamos parcialmente argumentos a zscore\n",
    "zscore_muestra = zscore(muestra.mean(), muestra.std())\n",
    "# Generamos nueva función predicado mediante la composición\n",
    "filtro_outlier = Compose(zscore_muestra).then(es_outlier)\n",
    "\n",
    "list(filter(filtro_outlier, muestra))   # lista con outliers"
   ]
  },
  {
   "cell_type": "code",
   "execution_count": null,
   "metadata": {},
   "outputs": [],
   "source": [
    "[ x for x in muestra if es_outlier(zscore_muestra(x)) ]"
   ]
  },
  {
   "cell_type": "markdown",
   "metadata": {},
   "source": [
    "### reduce"
   ]
  },
  {
   "cell_type": "code",
   "execution_count": null,
   "metadata": {},
   "outputs": [],
   "source": [
    "from functools import reduce\n",
    "\n",
    "def contar_letras(acumulado: int, elemento: str) -> int:\n",
    "    return acumulado + len(elemento)\n",
    "\n",
    "reduce(contar_letras, ['casa', 'puente', 'ojo'], 0)"
   ]
  },
  {
   "cell_type": "code",
   "execution_count": null,
   "metadata": {},
   "outputs": [],
   "source": [
    "from functools import reduce\n",
    "\n",
    "xs = [3, 4, 1, 0, 11, 7, 5, 6]\n",
    "\n",
    "# sum(xs)\n",
    "reduce(lambda x, y: x + y, xs, 0)"
   ]
  },
  {
   "cell_type": "code",
   "execution_count": null,
   "metadata": {},
   "outputs": [],
   "source": [
    "# max(xs)\n",
    "reduce(lambda x, y: x if x > y else y, xs)"
   ]
  },
  {
   "cell_type": "code",
   "execution_count": null,
   "metadata": {},
   "outputs": [],
   "source": [
    "maximo, *resto = xs\n",
    "for x in resto:\n",
    "    if x > maximo:\n",
    "        maximo = x\n",
    "\n",
    "maximo"
   ]
  },
  {
   "cell_type": "markdown",
   "metadata": {},
   "source": [
    "### Ejercicio: Conteo de elementos\n",
    "Definir utilizando `reduce` una operación que dada una lista de cadenas devuelva un diccionario donde las claves sean cada elemento de la lista y los valores sean la cantidad de apariciones que tiene ese elemento en la lista.\n",
    "\n",
    "Ejemplo: `contar(['a', 'b', 'c', 'a', 'a', 'c', 'b', 'd', 'c', 'a', 'e'])` -> `{'a': 4, 'b': 2, 'c': 3, 'd': 1, 'e': 1}`."
   ]
  },
  {
   "cell_type": "code",
   "execution_count": null,
   "metadata": {},
   "outputs": [],
   "source": [
    "from functools import reduce\n",
    "\n",
    "# Implementar contar(xs: list[str]) -> dict[str, int]\n",
    "\n",
    "contar(['a', 'b', 'c', 'a', 'a', 'c', 'b', 'd', 'c', 'a', 'e']) # {'a': 4, 'b': 2, 'c': 3, 'd': 1, 'e': 1}"
   ]
  },
  {
   "cell_type": "markdown",
   "metadata": {},
   "source": [
    "### Ejercicio: Ordenar con reduce\n",
    "Utilizando la operación `reduce` definir una operación que ordene una lista de números enteros de menor a mayor."
   ]
  },
  {
   "cell_type": "code",
   "execution_count": null,
   "metadata": {},
   "outputs": [],
   "source": [
    "from functools import reduce\n",
    "\n",
    "# Implementar ordenar(xs: list[int]) -> list[int]\n",
    "\n",
    "ordenar([3, 4, 1, 0, 11, 7, 5, 6]) # [0, 1, 3, 4, 5, 6, 7, 11]"
   ]
  }
 ],
 "metadata": {
  "kernelspec": {
   "display_name": "Python 3",
   "language": "python",
   "name": "python3"
  },
  "language_info": {
   "codemirror_mode": {
    "name": "ipython",
    "version": 3
   },
   "file_extension": ".py",
   "mimetype": "text/x-python",
   "name": "python",
   "nbconvert_exporter": "python",
   "pygments_lexer": "ipython3",
   "version": "3.12.0"
  }
 },
 "nbformat": 4,
 "nbformat_minor": 2
}
