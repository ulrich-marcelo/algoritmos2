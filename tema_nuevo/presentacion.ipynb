{
 "cells": [
  {
   "cell_type": "markdown",
   "metadata": {},
   "source": [
    "#Arboles\n",
    "\n",
    "Las listas dinamicas son en una sola dimension; las pilas LIFO y colas FIFO nos dan prioridad, pero siguen siendo 1D.\n",
    "\n",
    "Para relaciones jerarquicas, usamos arboles.\n",
    "\n",
    "Bosque: conjunto de arboles\n",
    "Arbol: se compone de nodos y raices, o nodos y aristas.\n",
    "\n",
    "Aristas tienen direccion, \"es padre de\".\n",
    "\n",
    "Varias definiciones...\n",
    "\n"
   ]
  },
  {
   "cell_type": "code",
   "execution_count": 7,
   "metadata": {},
   "outputs": [
    {
     "name": "stdout",
     "output_type": "stream",
     "text": [
      "0\n"
     ]
    }
   ],
   "source": [
    "from typing import Generic, Optional, TypeVar\n",
    "\n",
    "T = TypeVar(\"T\")\n",
    "\n",
    "class Nodo(Generic[T]):\n",
    "    def __init__(self,valor: T) -> None:\n",
    "        self.valor = valor\n",
    "        self.izquierda : Optional[Nodo] = None\n",
    "        self.derecha : Optional[Nodo] = None\n",
    "\n",
    "class ArbolBinario(Generic[T]):\n",
    "    def __init__(self, raiz : Optional[Nodo[T]] = None) -> None:\n",
    "        self.raiz : Optional[Nodo[T]] = raiz\n",
    "    \n",
    "    def es_vacio(self)->bool:\n",
    "        return self.raiz is None\n",
    "    \n",
    "    def insertar(self,valor:T) ->None:\n",
    "        def _insertar_recursivo(nodo:Optional[Nodo],valor: T)->Nodo:\n",
    "            if nodo is None:\n",
    "                return Nodo(valor)\n",
    "            elif nodo.izquierda is None:\n",
    "                nodo.izquierda = _insertar_recursivo(nodo.izquierda,valor)\n",
    "            else:\n",
    "                nodo.derecha = _insertar_recursivo(nodo.derecha,valor)\n",
    "            return nodo\n",
    "        if self.es_vacio():\n",
    "            self.raiz = Nodo(valor)\n",
    "        else:\n",
    "            self.raiz = _insertar_recursivo(self.raiz,valor)\n",
    "\n",
    "    def eliminar(self,valor:T) ->None:\n",
    "        def _eliminar_recursivo(nodo:Optional[Nodo],valor:T) ->Optional[Nodo]:\n",
    "            if nodo and nodo.valor != valor:\n",
    "                nodo.izquierda = _eliminar_recursivo(nodo.izquierda,valor)\n",
    "                nodo.derecha = _eliminar_recursivo(nodo.derecha,valor)\n",
    "            return nodo\n",
    "        if not self.es_vacio():\n",
    "            self.raiz = _eliminar_recursivo(self.raiz,valor)\n",
    "\n",
    "    def cantidad_nodos(self, contador :Optional[int] = 0):\n",
    "        def _cantidad_nodos_interno(nodo:Optional[Nodo],contador : int=0)->int:\n",
    "            if nodo:\n",
    "                contador += + 1\n",
    "                contador += _cantidad_nodos_interno(nodo.izquierda,contador)\n",
    "                contador +=_cantidad_nodos_interno(nodo.derecha,contador)\n",
    "                return contador\n",
    "            else:\n",
    "                return 0\n",
    "        \n",
    "        if not self.es_vacio():\n",
    "            return _cantidad_nodos_interno(self.raiz)\n",
    "        else:\n",
    "            return 0\n",
    "\n",
    "\n",
    "arbol = ArbolBinario(Nodo(1))\n",
    "for i in range(5):\n",
    "    arbol.insertar(i+2)\n",
    "print(arbol.cantidad_nodos())\n",
    "\n",
    "\n",
    "\n"
   ]
  },
  {
   "cell_type": "code",
   "execution_count": 5,
   "metadata": {},
   "outputs": [
    {
     "name": "stdout",
     "output_type": "stream",
     "text": [
      "<__main__.Nodo object at 0x7973bcf32ef0>\n"
     ]
    }
   ],
   "source": []
  },
  {
   "cell_type": "code",
   "execution_count": null,
   "metadata": {},
   "outputs": [],
   "source": [
    "#Ejercicio 1\n",
    "#Definir funcion recursiva cantidad para ArbolBinario, \n",
    "#que retorne la cantidad de nodos contenidos\n",
    "\n",
    "\n",
    "#Ejercicio2\n",
    "#Definir funcion recursiva altura, dado un arbol binario, returne su altura\n",
    "#(longitud de rama mas larga desde raiz hasta hoja)\n",
    "\n",
    "#Ejercicio3\n",
    "#definir funcion recursiva nivel, dado un valor, retorne en que nivel \n",
    "#se encuentra el nodo con ese valor.\n",
    "#Si no esta, retornar altura +1\n"
   ]
  }
 ],
 "metadata": {
  "kernelspec": {
   "display_name": ".venv",
   "language": "python",
   "name": "python3"
  },
  "language_info": {
   "codemirror_mode": {
    "name": "ipython",
    "version": 3
   },
   "file_extension": ".py",
   "mimetype": "text/x-python",
   "name": "python",
   "nbconvert_exporter": "python",
   "pygments_lexer": "ipython3",
   "version": "3.10.12"
  }
 },
 "nbformat": 4,
 "nbformat_minor": 2
}
